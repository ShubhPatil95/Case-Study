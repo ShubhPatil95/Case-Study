{
 "cells": [
  {
   "cell_type": "code",
   "execution_count": null,
   "id": "c51f7839",
   "metadata": {
    "colab": {
     "base_uri": "https://localhost:8080/"
    },
    "id": "c51f7839",
    "outputId": "e459796a-dd20-4fc3-dfdd-de19e0ac7836"
   },
   "outputs": [],
   "source": [
    "!pip install beautifulsoup4"
   ]
  },
  {
   "cell_type": "markdown",
   "id": "P-YRAVTh3P-O",
   "metadata": {
    "id": "P-YRAVTh3P-O"
   },
   "source": [
    "### Dependencises Installation"
   ]
  },
  {
   "cell_type": "code",
   "execution_count": 8,
   "id": "2c4c8907",
   "metadata": {
    "id": "2c4c8907"
   },
   "outputs": [],
   "source": [
    "import re\n",
    "import requests\n",
    "import numpy as np\n",
    "import pandas as pd\n",
    "from bs4 import BeautifulSoup\n",
    "import matplotlib.pyplot as plt"
   ]
  },
  {
   "cell_type": "markdown",
   "id": "0af120de",
   "metadata": {},
   "source": [
    "## For each URL, look for all href elements.\n"
   ]
  },
  {
   "cell_type": "code",
   "execution_count": 2,
   "id": "666bd501",
   "metadata": {},
   "outputs": [
    {
     "name": "stdout",
     "output_type": "stream",
     "text": [
      "https://sanctionssearch.ofac.treas.gov/  =  11\n",
      "https://home.treasury.gov/  =  289\n",
      "https://www.thomsonreuters.com/  =  121\n",
      "https://verafin.com/solution/  =  0\n",
      "https://www.swift.com/  =  207\n",
      "https://anti-fraud.ec.europa.eu/index_en  =  83\n",
      "https://www.kroll.com/  =  107\n",
      "https://learn.seon.io/  =  4\n",
      "total_href =  822\n"
     ]
    }
   ],
   "source": [
    "urls = [\"https://sanctionssearch.ofac.treas.gov/\",\"https://home.treasury.gov/\",\"https://www.thomsonreuters.com/\",\"https://verafin.com/solution/\",\"https://www.swift.com/\",\"https://anti-fraud.ec.europa.eu/index_en\",\"https://www.kroll.com/\",\"https://learn.seon.io/\"]\n",
    "\n",
    "def get_all_href(url):\n",
    "    '''\n",
    "    Fetch all hrefs of given url\n",
    "    \n",
    "    parameter\n",
    "    ----------\n",
    "    url : string\n",
    "        URL of webiste to do API call\n",
    "    \n",
    "    Returns:\n",
    "    ----------\n",
    "    list\n",
    "        all unique hrefs of url    \n",
    "        \n",
    "    '''\n",
    "    temp_href = []\n",
    "    page = requests.get(url)\n",
    "    soup = BeautifulSoup(page.content, \"html.parser\")\n",
    "    for a in soup.find_all('a', href=True):\n",
    "        all_href[url]=[]\n",
    "        if a['href']!='':\n",
    "            temp_href.append(a['href'])\n",
    "    return list(set(temp_href))\n",
    "\n",
    "total_href = 0\n",
    "all_href = {}\n",
    "\n",
    "# pass each url to get_all_href\n",
    "for url in urls:\n",
    "    all_href[url] = get_all_href(url)\n",
    "    print(url,\" = \", len(all_href[url]))\n",
    "    total_href+=len(all_href[url])\n",
    "\n",
    "print(\"total_href = \",total_href)"
   ]
  },
  {
   "cell_type": "markdown",
   "id": "64510e4b",
   "metadata": {},
   "source": [
    "### Out of these hrefs, filter out first 10 which start with http (or https) and those which do not. That is they have format href=”http://…” or href=https://......”"
   ]
  },
  {
   "cell_type": "code",
   "execution_count": null,
   "id": "fbb6b125",
   "metadata": {},
   "outputs": [],
   "source": [
    "def filter_http_https(hrefs,count):\n",
    "    '''\n",
    "    Filter first N number of href starting with http or https\n",
    "    \n",
    "    paramter\n",
    "    ---------\n",
    "    hrefs: dict\n",
    "        it contains the url as key and hrefs as value\n",
    "    count: int\n",
    "        number of filter href required\n",
    "        \n",
    "    Returns\n",
    "    ---------\n",
    "    list:\n",
    "        it has len=count with unique values \n",
    "    '''\n",
    "    filtered_href=set()\n",
    "    for url in hrefs:\n",
    "        for href in hrefs[url]:\n",
    "            if href.lower().startswith(('http://', 'https://')):\n",
    "                if len(filtered_href)==count:\n",
    "                    break\n",
    "                filtered_href.add(href)\n",
    "    return list(filtered_href)       \n",
    "    \n",
    "count=10\n",
    "filtered_href = filter_http_https(all_href,10)\n",
    "print(filtered_href)"
   ]
  },
  {
   "cell_type": "markdown",
   "id": "e6b072fa",
   "metadata": {},
   "source": [
    "### For each href which starts with http or https, find all links which are valid (which return http status code 200 and those which are not valid). Save as a CSV file."
   ]
  },
  {
   "cell_type": "code",
   "execution_count": 1,
   "id": "8032c8fb",
   "metadata": {
    "collapsed": true
   },
   "outputs": [
    {
     "ename": "NameError",
     "evalue": "name 'all_href' is not defined",
     "output_type": "error",
     "traceback": [
      "\u001b[1;31m---------------------------------------------------------------------------\u001b[0m",
      "\u001b[1;31mNameError\u001b[0m                                 Traceback (most recent call last)",
      "\u001b[1;32m~\\AppData\\Local\\Temp\\ipykernel_16140\\1462362948.py\u001b[0m in \u001b[0;36m<module>\u001b[1;34m\u001b[0m\n\u001b[0;32m     40\u001b[0m \u001b[1;32mwith\u001b[0m \u001b[0mPool\u001b[0m\u001b[1;33m(\u001b[0m\u001b[1;33m)\u001b[0m \u001b[1;32mas\u001b[0m \u001b[0mpool\u001b[0m\u001b[1;33m:\u001b[0m\u001b[1;33m\u001b[0m\u001b[1;33m\u001b[0m\u001b[0m\n\u001b[0;32m     41\u001b[0m     \u001b[1;31m# prepare arguments\u001b[0m\u001b[1;33m\u001b[0m\u001b[1;33m\u001b[0m\u001b[0m\n\u001b[1;32m---> 42\u001b[1;33m     \u001b[0mitems\u001b[0m \u001b[1;33m=\u001b[0m \u001b[1;33m[\u001b[0m\u001b[1;33m(\u001b[0m\u001b[0murl\u001b[0m\u001b[1;33m,\u001b[0m \u001b[0mall_href\u001b[0m\u001b[1;33m)\u001b[0m \u001b[1;32mfor\u001b[0m \u001b[0murl\u001b[0m \u001b[1;32min\u001b[0m \u001b[0mlist\u001b[0m\u001b[1;33m(\u001b[0m\u001b[0mall_href\u001b[0m\u001b[1;33m.\u001b[0m\u001b[0mkeys\u001b[0m\u001b[1;33m(\u001b[0m\u001b[1;33m)\u001b[0m\u001b[1;33m)\u001b[0m\u001b[1;33m[\u001b[0m\u001b[1;36m0\u001b[0m\u001b[1;33m]\u001b[0m\u001b[1;33m]\u001b[0m\u001b[1;33m\u001b[0m\u001b[1;33m\u001b[0m\u001b[0m\n\u001b[0m\u001b[0;32m     43\u001b[0m     \u001b[1;31m# execute tasks and process results in order\u001b[0m\u001b[1;33m\u001b[0m\u001b[1;33m\u001b[0m\u001b[0m\n\u001b[0;32m     44\u001b[0m     \u001b[1;32mfor\u001b[0m \u001b[0mresult\u001b[0m \u001b[1;32min\u001b[0m \u001b[0mpool\u001b[0m\u001b[1;33m.\u001b[0m\u001b[0mstarmap\u001b[0m\u001b[1;33m(\u001b[0m\u001b[0mvalid_http_https\u001b[0m\u001b[1;33m,\u001b[0m \u001b[0mitems\u001b[0m\u001b[1;33m,\u001b[0m\u001b[0mchunksize\u001b[0m\u001b[1;33m=\u001b[0m\u001b[1;36m8\u001b[0m\u001b[1;33m)\u001b[0m\u001b[1;33m:\u001b[0m\u001b[1;33m\u001b[0m\u001b[1;33m\u001b[0m\u001b[0m\n",
      "\u001b[1;31mNameError\u001b[0m: name 'all_href' is not defined"
     ]
    }
   ],
   "source": [
    "from multiprocessing.pool import Pool\n",
    "\n",
    "def valid_http_https(url, all_href,):\n",
    "    '''\n",
    "    Check status_code of API response\n",
    "    \n",
    "    paramter\n",
    "    ----------\n",
    "    url: string\n",
    "        URL from list1\n",
    "    all_href: dict\n",
    "        dict containinng URL against hrefs\n",
    "        \n",
    "    Returns\n",
    "    ---------\n",
    "    lists\n",
    "        urls hrefs and validity\n",
    "    '''\n",
    "    urls = []\n",
    "    hrefs = []\n",
    "    validity = []\n",
    "    for href in all_href[url]:\n",
    "        if href.lower().startswith(('http://', 'https://')):\n",
    "            response = requests.get(href)\n",
    "            if response.status_code==200:\n",
    "              urls.append(url)\n",
    "              hrefs.append(href)\n",
    "              validity.append(\"Valid\")\n",
    "            else:\n",
    "              urls.append(url)\n",
    "              hrefs.append(href)\n",
    "              validity.append(\"Invalid\")\n",
    "    print(len(urls),len(hrefs),len(validity))\n",
    "    return urls, hrefs, validity \n",
    "\n",
    "urls = []\n",
    "hrefs = []\n",
    "status = []   \n",
    "# protect the entry point\n",
    "with Pool() as pool:\n",
    "    # prepare arguments\n",
    "    items = [(url, all_href) for url in list(all_href.keys())[0]]\n",
    "    # execute tasks and process results in order\n",
    "    for result in pool.starmap(valid_http_https, items,chunksize=8):\n",
    "        print(f'Got result: {result}', flush=True)\n",
    "        url,href,validity = result\n",
    "        urls.extend(url)\n",
    "        hrefs.extend(href)\n",
    "        status.extend(validity)\n",
    "        \n",
    "df =pd.DataFrame({\"url\":urls,\"href\":hrefs,\"Status\":status})\n",
    "df.to_csv(\"valid_href.csv\",index=False)"
   ]
  },
  {
   "cell_type": "markdown",
   "id": "90616e06",
   "metadata": {
    "id": "90616e06"
   },
   "source": [
    "### Make a graph which plots each entry in List1 against total number of href links, valid https/https links and invalid https links."
   ]
  },
  {
   "cell_type": "code",
   "execution_count": null,
   "id": "bb54e8d4",
   "metadata": {
    "id": "bb54e8d4",
    "outputId": "74460a54-cfb2-4420-c13c-385112505f07"
   },
   "outputs": [],
   "source": [
    "new_df =df.groupby(['url', 'Status']).size().unstack()\n",
    "new_df.fillna(0,inplace=True)\n",
    "new_df[\"total_href\"] = (new_df.Invalid+new_df.Valid).values\n",
    "new_df"
   ]
  },
  {
   "cell_type": "code",
   "execution_count": null,
   "id": "6f267c37",
   "metadata": {
    "id": "6f267c37",
    "outputId": "e78d4373-1fee-48b7-d280-f5d1662aa607"
   },
   "outputs": [],
   "source": [
    "new_df.plot(kind = 'bar',stacked=True,title = 'Stacked Valid Invalid Count For Urls',figsize=(10,5),width=0.8)\n",
    "plt.grid()"
   ]
  },
  {
   "cell_type": "code",
   "execution_count": null,
   "id": "26cd659a",
   "metadata": {
    "id": "26cd659a",
    "outputId": "a8766d32-3913-48a7-f3cb-9f374144142d"
   },
   "outputs": [],
   "source": [
    "new_df.plot(kind = 'bar',title = 'Valid Invalid Count For Urls',figsize=(10,5),width=0.9)\n",
    "plt.grid()"
   ]
  },
  {
   "cell_type": "markdown",
   "id": "WCx4BQLZ28IL",
   "metadata": {
    "id": "WCx4BQLZ28IL"
   },
   "source": [
    "### For each valid http/ https links or sub links find the website having the highest number of each keyword form list2 in Appendix. Group them by main link from list 1 and then the sub links. Make a csv file."
   ]
  },
  {
   "cell_type": "code",
   "execution_count": null,
   "id": "a978db1b",
   "metadata": {
    "id": "a978db1b"
   },
   "outputs": [],
   "source": [
    "keywords = [\"Sanctions\",\"OFAC\",\"Foreign Sanctions\",\"Balkans\",\"ESG trends\",\"Corporate income tax\",\"European Parliament\",\"customs fraud\",\"Cybersecurity\",\"OLAF\",\"Device Fingerprinting\"]"
   ]
  },
  {
   "cell_type": "code",
   "execution_count": null,
   "id": "816cb5e2",
   "metadata": {
    "id": "816cb5e2"
   },
   "outputs": [],
   "source": [
    "df1 = pd.read_csv(\"valid_href.csv\")\n",
    "df1 = df1[df1.Status==\"Valid\"]\n",
    "df1[keywords]=np.nan\n",
    "\n",
    "hrefs = list(df1.href)\n",
    "for i in range(len(hrefs)):\n",
    "    page = requests.get(hrefs[i])\n",
    "    soup = BeautifulSoup(page.content, \"html.parser\")\n",
    "    tag = soup.body\n",
    "    text =\"\"\n",
    "    try:\n",
    "        for string in tag.strings:\n",
    "            text=text+string.strip()\n",
    "        word_count = {word:text.count(word) for word in keywords}\n",
    "        df1.loc[i,keywords] = word_count.values()    \n",
    "    except:\n",
    "        df1.loc[i,keywords] = 0\n",
    "df1.to_csv(\"word_count.csv\",index=False)"
   ]
  },
  {
   "cell_type": "code",
   "execution_count": 11,
   "id": "0139fdef",
   "metadata": {
    "colab": {
     "base_uri": "https://localhost:8080/",
     "height": 391
    },
    "id": "0139fdef",
    "outputId": "53d793e5-ae47-47fc-8d9a-59216846ac12"
   },
   "outputs": [
    {
     "data": {
      "text/html": [
       "<div>\n",
       "<style scoped>\n",
       "    .dataframe tbody tr th:only-of-type {\n",
       "        vertical-align: middle;\n",
       "    }\n",
       "\n",
       "    .dataframe tbody tr th {\n",
       "        vertical-align: top;\n",
       "    }\n",
       "\n",
       "    .dataframe thead th {\n",
       "        text-align: right;\n",
       "    }\n",
       "</style>\n",
       "<table border=\"1\" class=\"dataframe\">\n",
       "  <thead>\n",
       "    <tr style=\"text-align: right;\">\n",
       "      <th></th>\n",
       "      <th>url</th>\n",
       "      <th>href</th>\n",
       "      <th>Status</th>\n",
       "      <th>Sanctions</th>\n",
       "      <th>OFAC</th>\n",
       "      <th>Foreign Sanctions</th>\n",
       "      <th>Balkans</th>\n",
       "      <th>ESG trends</th>\n",
       "      <th>Corporate income tax</th>\n",
       "      <th>European Parliament</th>\n",
       "      <th>customs fraud</th>\n",
       "      <th>Cybersecurity</th>\n",
       "      <th>OLAF</th>\n",
       "      <th>Device Fingerprinting</th>\n",
       "      <th>TotalKeywords</th>\n",
       "      <th>max</th>\n",
       "    </tr>\n",
       "  </thead>\n",
       "  <tbody>\n",
       "    <tr>\n",
       "      <th>0</th>\n",
       "      <td>https://sanctionssearch.ofac.treas.gov/</td>\n",
       "      <td>https://home.treasury.gov/policy-issues/financ...</td>\n",
       "      <td>Valid</td>\n",
       "      <td>39</td>\n",
       "      <td>24</td>\n",
       "      <td>0</td>\n",
       "      <td>0</td>\n",
       "      <td>0</td>\n",
       "      <td>0</td>\n",
       "      <td>0</td>\n",
       "      <td>0</td>\n",
       "      <td>0</td>\n",
       "      <td>0</td>\n",
       "      <td>0</td>\n",
       "      <td>63</td>\n",
       "      <td>Sanctions</td>\n",
       "    </tr>\n",
       "    <tr>\n",
       "      <th>1</th>\n",
       "      <td>https://sanctionssearch.ofac.treas.gov/</td>\n",
       "      <td>https://home.treasury.gov/policy-issues/financ...</td>\n",
       "      <td>Valid</td>\n",
       "      <td>35</td>\n",
       "      <td>23</td>\n",
       "      <td>1</td>\n",
       "      <td>0</td>\n",
       "      <td>0</td>\n",
       "      <td>0</td>\n",
       "      <td>0</td>\n",
       "      <td>0</td>\n",
       "      <td>0</td>\n",
       "      <td>0</td>\n",
       "      <td>0</td>\n",
       "      <td>59</td>\n",
       "      <td>Sanctions</td>\n",
       "    </tr>\n",
       "    <tr>\n",
       "      <th>2</th>\n",
       "      <td>https://sanctionssearch.ofac.treas.gov/</td>\n",
       "      <td>https://home.treasury.gov/policy-issues/office...</td>\n",
       "      <td>Valid</td>\n",
       "      <td>27</td>\n",
       "      <td>32</td>\n",
       "      <td>0</td>\n",
       "      <td>0</td>\n",
       "      <td>0</td>\n",
       "      <td>0</td>\n",
       "      <td>0</td>\n",
       "      <td>0</td>\n",
       "      <td>0</td>\n",
       "      <td>0</td>\n",
       "      <td>0</td>\n",
       "      <td>59</td>\n",
       "      <td>OFAC</td>\n",
       "    </tr>\n",
       "    <tr>\n",
       "      <th>3</th>\n",
       "      <td>https://sanctionssearch.ofac.treas.gov/</td>\n",
       "      <td>https://home.treasury.gov/policy-issues/financ...</td>\n",
       "      <td>Valid</td>\n",
       "      <td>49</td>\n",
       "      <td>12</td>\n",
       "      <td>4</td>\n",
       "      <td>1</td>\n",
       "      <td>0</td>\n",
       "      <td>0</td>\n",
       "      <td>0</td>\n",
       "      <td>0</td>\n",
       "      <td>0</td>\n",
       "      <td>0</td>\n",
       "      <td>0</td>\n",
       "      <td>66</td>\n",
       "      <td>Sanctions</td>\n",
       "    </tr>\n",
       "    <tr>\n",
       "      <th>4</th>\n",
       "      <td>https://sanctionssearch.ofac.treas.gov/</td>\n",
       "      <td>https://home.treasury.gov/policy-issues/financ...</td>\n",
       "      <td>Valid</td>\n",
       "      <td>23</td>\n",
       "      <td>21</td>\n",
       "      <td>0</td>\n",
       "      <td>0</td>\n",
       "      <td>0</td>\n",
       "      <td>0</td>\n",
       "      <td>0</td>\n",
       "      <td>0</td>\n",
       "      <td>0</td>\n",
       "      <td>0</td>\n",
       "      <td>0</td>\n",
       "      <td>44</td>\n",
       "      <td>Sanctions</td>\n",
       "    </tr>\n",
       "  </tbody>\n",
       "</table>\n",
       "</div>"
      ],
      "text/plain": [
       "                                       url  \\\n",
       "0  https://sanctionssearch.ofac.treas.gov/   \n",
       "1  https://sanctionssearch.ofac.treas.gov/   \n",
       "2  https://sanctionssearch.ofac.treas.gov/   \n",
       "3  https://sanctionssearch.ofac.treas.gov/   \n",
       "4  https://sanctionssearch.ofac.treas.gov/   \n",
       "\n",
       "                                                href Status  Sanctions  OFAC  \\\n",
       "0  https://home.treasury.gov/policy-issues/financ...  Valid         39    24   \n",
       "1  https://home.treasury.gov/policy-issues/financ...  Valid         35    23   \n",
       "2  https://home.treasury.gov/policy-issues/office...  Valid         27    32   \n",
       "3  https://home.treasury.gov/policy-issues/financ...  Valid         49    12   \n",
       "4  https://home.treasury.gov/policy-issues/financ...  Valid         23    21   \n",
       "\n",
       "   Foreign Sanctions  Balkans  ESG trends  Corporate income tax  \\\n",
       "0                  0        0           0                     0   \n",
       "1                  1        0           0                     0   \n",
       "2                  0        0           0                     0   \n",
       "3                  4        1           0                     0   \n",
       "4                  0        0           0                     0   \n",
       "\n",
       "   European Parliament  customs fraud  Cybersecurity  OLAF  \\\n",
       "0                    0              0              0     0   \n",
       "1                    0              0              0     0   \n",
       "2                    0              0              0     0   \n",
       "3                    0              0              0     0   \n",
       "4                    0              0              0     0   \n",
       "\n",
       "   Device Fingerprinting  TotalKeywords        max  \n",
       "0                      0             63  Sanctions  \n",
       "1                      0             59  Sanctions  \n",
       "2                      0             59       OFAC  \n",
       "3                      0             66  Sanctions  \n",
       "4                      0             44  Sanctions  "
      ]
     },
     "execution_count": 11,
     "metadata": {},
     "output_type": "execute_result"
    }
   ],
   "source": [
    "import pandas as pd\n",
    "df1 = pd.read_csv(\"word_count.csv\")\n",
    "df1[\"max\"]=df1.iloc[:,3:-1].idxmax(axis=1)\n",
    "df1.head()"
   ]
  },
  {
   "cell_type": "code",
   "execution_count": 13,
   "id": "uqcxbw_j5Sl_",
   "metadata": {
    "id": "uqcxbw_j5Sl_"
   },
   "outputs": [],
   "source": [
    "aggregation_functions = {'max': 'first'}\n",
    "df_new = df1.groupby(['url','href']).aggregate(aggregation_functions)\n",
    "df_new = df_new.reset_index()\n",
    "df_new.to_csv(\"Max_freq_keyword.csv\",index=False)"
   ]
  },
  {
   "cell_type": "markdown",
   "id": "056c4435",
   "metadata": {},
   "source": [
    "### Plot a graph showing the number of keywords found in each link and their sub links. Also display the website link having the highest number of keywords and lowest number of keywords. Consider each set of related keywords on a line.\n"
   ]
  },
  {
   "cell_type": "code",
   "execution_count": 5,
   "id": "e912b541",
   "metadata": {},
   "outputs": [
    {
     "data": {
      "text/html": [
       "<div>\n",
       "<style scoped>\n",
       "    .dataframe tbody tr th:only-of-type {\n",
       "        vertical-align: middle;\n",
       "    }\n",
       "\n",
       "    .dataframe tbody tr th {\n",
       "        vertical-align: top;\n",
       "    }\n",
       "\n",
       "    .dataframe thead th {\n",
       "        text-align: right;\n",
       "    }\n",
       "</style>\n",
       "<table border=\"1\" class=\"dataframe\">\n",
       "  <thead>\n",
       "    <tr style=\"text-align: right;\">\n",
       "      <th></th>\n",
       "      <th>url</th>\n",
       "      <th>TotalKeywords</th>\n",
       "    </tr>\n",
       "  </thead>\n",
       "  <tbody>\n",
       "    <tr>\n",
       "      <th>0</th>\n",
       "      <td>https://anti-fraud.ec.europa.eu/index_en</td>\n",
       "      <td>100</td>\n",
       "    </tr>\n",
       "    <tr>\n",
       "      <th>1</th>\n",
       "      <td>https://home.treasury.gov/</td>\n",
       "      <td>2311</td>\n",
       "    </tr>\n",
       "    <tr>\n",
       "      <th>2</th>\n",
       "      <td>https://learn.seon.io/</td>\n",
       "      <td>0</td>\n",
       "    </tr>\n",
       "    <tr>\n",
       "      <th>3</th>\n",
       "      <td>https://sanctionssearch.ofac.treas.gov/</td>\n",
       "      <td>291</td>\n",
       "    </tr>\n",
       "    <tr>\n",
       "      <th>4</th>\n",
       "      <td>https://www.kroll.com/</td>\n",
       "      <td>206</td>\n",
       "    </tr>\n",
       "    <tr>\n",
       "      <th>5</th>\n",
       "      <td>https://www.swift.com/</td>\n",
       "      <td>61</td>\n",
       "    </tr>\n",
       "    <tr>\n",
       "      <th>6</th>\n",
       "      <td>https://www.thomsonreuters.com/</td>\n",
       "      <td>182</td>\n",
       "    </tr>\n",
       "  </tbody>\n",
       "</table>\n",
       "</div>"
      ],
      "text/plain": [
       "                                        url  TotalKeywords\n",
       "0  https://anti-fraud.ec.europa.eu/index_en            100\n",
       "1                https://home.treasury.gov/           2311\n",
       "2                    https://learn.seon.io/              0\n",
       "3   https://sanctionssearch.ofac.treas.gov/            291\n",
       "4                    https://www.kroll.com/            206\n",
       "5                    https://www.swift.com/             61\n",
       "6           https://www.thomsonreuters.com/            182"
      ]
     },
     "execution_count": 5,
     "metadata": {},
     "output_type": "execute_result"
    }
   ],
   "source": [
    "df_grouped = df1.groupby([\"url\"])[\"TotalKeywords\"].sum()\n",
    "df_grouped = df_grouped.reset_index()\n",
    "df_grouped"
   ]
  },
  {
   "cell_type": "code",
   "execution_count": 9,
   "id": "8dd08674",
   "metadata": {},
   "outputs": [
    {
     "data": {
      "text/plain": [
       "<BarContainer object of 7 artists>"
      ]
     },
     "execution_count": 9,
     "metadata": {},
     "output_type": "execute_result"
    },
    {
     "data": {
      "image/png": "[encoded data removed]",
      "text/plain": [
       "<Figure size 640x480 with 1 Axes>"
      ]
     },
     "metadata": {},
     "output_type": "display_data"
    }
   ],
   "source": [
    "plt.barh(df_grouped.url,df_grouped.TotalKeywords)"
   ]
  },
  {
   "cell_type": "code",
   "execution_count": 10,
   "id": "42d326f9",
   "metadata": {},
   "outputs": [
    {
     "data": {
      "text/plain": [
       "<BarContainer object of 2 artists>"
      ]
     },
     "execution_count": 10,
     "metadata": {},
     "output_type": "execute_result"
    },
    {
     "data": {
      "image/png": "[encoded data removed]",
      "text/plain": [
       "<Figure size 640x480 with 1 Axes>"
      ]
     },
     "metadata": {},
     "output_type": "display_data"
    }
   ],
   "source": [
    "## A website with minimum and maximum keywords\n",
    "columns = [df_grouped.max()[0],df_grouped.min()[0]] \n",
    "values = [df_grouped.max()[1],df_grouped.min()[1]]\n",
    "plt.barh(columns,values,)"
   ]
  },
  {
   "cell_type": "code",
   "execution_count": null,
   "id": "c41bd1b5",
   "metadata": {},
   "outputs": [],
   "source": []
  }
 ],
 "metadata": {
  "colab": {
   "provenance": []
  },
  "kernelspec": {
   "display_name": "Python 3 (ipykernel)",
   "language": "python",
   "name": "python3"
  },
  "language_info": {
   "codemirror_mode": {
    "name": "ipython",
    "version": 3
   },
   "file_extension": ".py",
   "mimetype": "text/x-python",
   "name": "python",
   "nbconvert_exporter": "python",
   "pygments_lexer": "ipython3",
   "version": "3.9.13"
  }
 },
 "nbformat": 4,
 "nbformat_minor": 5
}
