{
  "cells": [
    {
      "cell_type": "code",
      "execution_count": 1,
      "id": "c51f7839",
      "metadata": {
        "colab": {
          "base_uri": "https://localhost:8080/"
        },
        "id": "c51f7839",
        "outputId": "e459796a-dd20-4fc3-dfdd-de19e0ac7836"
      },
      "outputs": [
        {
          "output_type": "stream",
          "name": "stdout",
          "text": [
            "Looking in indexes: https://pypi.org/simple, https://us-python.pkg.dev/colab-wheels/public/simple/\n",
            "Requirement already satisfied: beautifulsoup4 in /usr/local/lib/python3.8/dist-packages (4.6.3)\n"
          ]
        }
      ],
      "source": [
        "!pip install beautifulsoup4"
      ]
    },
    {
      "cell_type": "markdown",
      "source": [
        "### Dependencises Installation"
      ],
      "metadata": {
        "id": "P-YRAVTh3P-O"
      },
      "id": "P-YRAVTh3P-O"
    },
    {
      "cell_type": "code",
      "execution_count": 2,
      "id": "2c4c8907",
      "metadata": {
        "id": "2c4c8907"
      },
      "outputs": [],
      "source": [
        "import re\n",
        "import requests\n",
        "import numpy as np\n",
        "import pandas as pd\n",
        "from bs4 import BeautifulSoup"
      ]
    },
    {
      "cell_type": "code",
      "execution_count": 3,
      "id": "f7348c22",
      "metadata": {
        "id": "f7348c22"
      },
      "outputs": [],
      "source": [
        "urls = [\"https://sanctionssearch.ofac.treas.gov/\",\"https://home.treasury.gov/\",\"https://www.thomsonreuters.com/\",\"https://verafin.com/solution/\",\"https://www.swift.com/\",\"https://anti-fraud.ec.europa.eu/index_en\",\"https://www.kroll.com/\",\"https://learn.seon.io/\"]"
      ]
    },
    {
      "cell_type": "markdown",
      "id": "c9903b20",
      "metadata": {
        "id": "c9903b20"
      },
      "source": [
        "### For each URL, look for all href elements."
      ]
    },
    {
      "cell_type": "code",
      "execution_count": 4,
      "id": "8971c6a3",
      "metadata": {
        "id": "8971c6a3"
      },
      "outputs": [],
      "source": [
        "all_href = {}\n",
        "\n",
        "for url in urls:\n",
        "    temp_href = []\n",
        "    page = requests.get(url)\n",
        "    soup = BeautifulSoup(page.content, \"html.parser\")\n",
        "    for a in soup.find_all('a', href=True):\n",
        "        if a['href']!='':\n",
        "            temp_href.append(a['href'])\n",
        "    all_href[url]=list(set(temp_href))"
      ]
    },
    {
      "cell_type": "code",
      "execution_count": 5,
      "id": "a8b91874",
      "metadata": {
        "colab": {
          "base_uri": "https://localhost:8080/"
        },
        "id": "a8b91874",
        "outputId": "9e9b962a-eb2b-4709-d01b-eb2aa91666cf"
      },
      "outputs": [
        {
          "output_type": "stream",
          "name": "stdout",
          "text": [
            "https://sanctionssearch.ofac.treas.gov/  =  11\n",
            "https://home.treasury.gov/  =  289\n",
            "https://www.thomsonreuters.com/  =  121\n",
            "https://verafin.com/solution/  =  0\n",
            "https://www.swift.com/  =  208\n",
            "https://anti-fraud.ec.europa.eu/index_en  =  83\n",
            "https://www.kroll.com/  =  107\n",
            "https://learn.seon.io/  =  4\n",
            "total_href =  823\n"
          ]
        }
      ],
      "source": [
        "total_href = 0\n",
        "for url in all_href:\n",
        "    print(url,\" = \", len(all_href[url]))\n",
        "    total_href+=len(all_href[url])\n",
        "print(\"total_href = \",total_href)"
      ]
    },
    {
      "cell_type": "markdown",
      "id": "f7dc5f49",
      "metadata": {
        "id": "f7dc5f49"
      },
      "source": [
        "\n",
        "### Out of these hrefs, filter out first 10 which start with http (or https) and those which do not. That is they have format href=”http://…” or href=https://......”"
      ]
    },
    {
      "cell_type": "code",
      "execution_count": 6,
      "id": "20687c2b",
      "metadata": {
        "colab": {
          "base_uri": "https://localhost:8080/"
        },
        "id": "20687c2b",
        "outputId": "bd3e0c89-9dd5-443c-e4bb-18a436c3baf6"
      },
      "outputs": [
        {
          "output_type": "stream",
          "name": "stdout",
          "text": [
            "filtered_href =  ['https://home.treasury.gov/policy-issues/financial-sanctions/consolidated-sanctions-list-data-files', 'https://home.treasury.gov/policy-issues/financial-sanctions/faqs/287', 'https://home.treasury.gov/policy-issues/financial-sanctions/specially-designated-nationals-list-data-formats-data-schemas', 'https://home.treasury.gov/policy-issues/financial-sanctions/specially-designated-nationals-list-sdn-list/program-tag-definitions-for-ofac-sanctions-lists', 'https://home.treasury.gov/policy-issues/office-of-foreign-assets-control-sanctions-programs-and-information', 'http://www.usajobs.gov/', 'https://home.treasury.gov/subfooter/site-policies-and-notices', 'https://www.irs.gov/forms-pubs/about-form-941', 'https://home.treasury.gov/utility/languages/alrbyt-arabic', 'https://www.treasury.gov/auctions/irs/index.html']\n"
          ]
        }
      ],
      "source": [
        "filtered_href=[]\n",
        "for url in all_href:\n",
        "    for href in all_href[url]:\n",
        "        if href.lower().startswith(('http://', 'https://')):\n",
        "            if len(filtered_href)==10:\n",
        "                break\n",
        "            filtered_href.append(href)\n",
        "print(\"filtered_href = \", filtered_href)"
      ]
    },
    {
      "cell_type": "markdown",
      "id": "a9cd721e",
      "metadata": {
        "id": "a9cd721e"
      },
      "source": [
        "### For each href which starts with http or https, find all links which are valid (which return http status code 200 and those which are not valid). Save as a CSV file."
      ]
    },
    {
      "cell_type": "code",
      "execution_count": null,
      "id": "e8621c72",
      "metadata": {
        "collapsed": true,
        "id": "e8621c72"
      },
      "outputs": [],
      "source": [
        "all_valid = {\"url\":[],\"valid_href\":{}} \n",
        "for url in list(all_href.keys()):\n",
        "    for href in all_href[url]:\n",
        "        if href.lower().startswith(('http://', 'https://')):\n",
        "            response = requests.get(href)\n",
        "            if response.status_code==200:\n",
        "                all_valid[\"valid_href\"][href] = \"Valid\"\n",
        "                all_valid[\"url\"].append(url)\n",
        "            else:\n",
        "                all_valid[\"valid_href\"][href] = \"Invalid\"\n",
        "                all_valid[\"url\"].append(url)\n",
        "                print(len(all_valid[\"url\"]),len(all_valid[\"valid_href\"]))\n",
        "                \n",
        "df =pd.DataFrame({\"url\":all_valid[\"url\"],\"href\":list(all_valid[\"valid_href\"].keys()),\"Status\":list(all_valid[\"valid_href\"].values())})\n",
        "df.to_csv(\"valid_href.csv\",index=False)"
      ]
    },
    {
      "cell_type": "markdown",
      "id": "7f6c08d2",
      "metadata": {
        "id": "7f6c08d2"
      },
      "source": [
        "### Handle those cases where a website does not respond within 20 seconds ( configurable) ( Nice to have, leave if you have no time)."
      ]
    },
    {
      "cell_type": "code",
      "source": [
        "from google.colab import drive\n",
        "drive.mount('/content/drive')"
      ],
      "metadata": {
        "colab": {
          "base_uri": "https://localhost:8080/"
        },
        "id": "aslsRnMMtHoy",
        "outputId": "9da1f9c3-41fc-44d5-f745-3b4e06d42af4"
      },
      "id": "aslsRnMMtHoy",
      "execution_count": 10,
      "outputs": [
        {
          "output_type": "stream",
          "name": "stdout",
          "text": [
            "Mounted at /content/drive\n"
          ]
        }
      ]
    },
    {
      "cell_type": "code",
      "execution_count": null,
      "id": "88e33765",
      "metadata": {
        "id": "88e33765"
      },
      "outputs": [],
      "source": [
        "timeout=20\n",
        "all_valid = {\"url\":[],\"href\":[],\"status\":[]} \n",
        "for url in list(all_href.keys()):\n",
        "    for href in all_href[url]:\n",
        "        if href.lower().startswith(('http://', 'https://')):\n",
        "            try:\n",
        "                response = requests.get(href,timeout=timeout)\n",
        "                if response.status_code==200:\n",
        "                    all_valid[\"url\"].append(url)\n",
        "                    all_valid[\"href\"].append(href)\n",
        "                    all_valid[\"status\"].append(\"Valid\")\n",
        "                else:\n",
        "                    all_valid[\"url\"].append(url)\n",
        "                    all_valid[\"href\"].append(href)\n",
        "                    all_valid[\"status\"].append(\"Invalid\")\n",
        "            except:\n",
        "                    all_valid[\"url\"].append(url)\n",
        "                    all_valid[\"href\"].append(href)\n",
        "                    all_valid[\"status\"].append(\"Invalid\")\n",
        "                    \n",
        "df =pd.DataFrame({\"url\":all_valid[\"url\"],\"href\":all_valid[\"href\"],\"Status\":all_valid[\"status\"]})\n",
        "df.to_csv(\"valid_href_timeout.csv\",index=False)"
      ]
    },
    {
      "cell_type": "code",
      "execution_count": null,
      "id": "79765805",
      "metadata": {
        "id": "79765805"
      },
      "outputs": [],
      "source": [
        "df =pd.DataFrame({\"url\":all_valid[\"url\"],\"href\":list(all_valid[\"valid_href\"].keys()),\"Status\":list(all_valid[\"valid_href\"].values())})\n",
        "df.to_csv(\"valid_href_timeout.csv\",index=False)"
      ]
    },
    {
      "cell_type": "markdown",
      "id": "90616e06",
      "metadata": {
        "id": "90616e06"
      },
      "source": [
        "### Make a graph which plots each entry in List1 against total number of href links, valid https/https links and invalid https links."
      ]
    },
    {
      "cell_type": "code",
      "execution_count": null,
      "id": "bb54e8d4",
      "metadata": {
        "id": "bb54e8d4",
        "outputId": "74460a54-cfb2-4420-c13c-385112505f07"
      },
      "outputs": [
        {
          "data": {
            "text/html": [
              "<div>\n",
              "<style scoped>\n",
              "    .dataframe tbody tr th:only-of-type {\n",
              "        vertical-align: middle;\n",
              "    }\n",
              "\n",
              "    .dataframe tbody tr th {\n",
              "        vertical-align: top;\n",
              "    }\n",
              "\n",
              "    .dataframe thead th {\n",
              "        text-align: right;\n",
              "    }\n",
              "</style>\n",
              "<table border=\"1\" class=\"dataframe\">\n",
              "  <thead>\n",
              "    <tr style=\"text-align: right;\">\n",
              "      <th>Status</th>\n",
              "      <th>Invalid</th>\n",
              "      <th>Valid</th>\n",
              "      <th>total_href</th>\n",
              "    </tr>\n",
              "    <tr>\n",
              "      <th>url</th>\n",
              "      <th></th>\n",
              "      <th></th>\n",
              "      <th></th>\n",
              "    </tr>\n",
              "  </thead>\n",
              "  <tbody>\n",
              "    <tr>\n",
              "      <th>https://anti-fraud.ec.europa.eu/index_en</th>\n",
              "      <td>2.0</td>\n",
              "      <td>33.0</td>\n",
              "      <td>35.0</td>\n",
              "    </tr>\n",
              "    <tr>\n",
              "      <th>https://home.treasury.gov/</th>\n",
              "      <td>6.0</td>\n",
              "      <td>243.0</td>\n",
              "      <td>249.0</td>\n",
              "    </tr>\n",
              "    <tr>\n",
              "      <th>https://learn.seon.io/</th>\n",
              "      <td>0.0</td>\n",
              "      <td>3.0</td>\n",
              "      <td>3.0</td>\n",
              "    </tr>\n",
              "    <tr>\n",
              "      <th>https://sanctionssearch.ofac.treas.gov/</th>\n",
              "      <td>0.0</td>\n",
              "      <td>5.0</td>\n",
              "      <td>5.0</td>\n",
              "    </tr>\n",
              "    <tr>\n",
              "      <th>https://www.kroll.com/</th>\n",
              "      <td>12.0</td>\n",
              "      <td>16.0</td>\n",
              "      <td>28.0</td>\n",
              "    </tr>\n",
              "    <tr>\n",
              "      <th>https://www.swift.com/</th>\n",
              "      <td>6.0</td>\n",
              "      <td>15.0</td>\n",
              "      <td>21.0</td>\n",
              "    </tr>\n",
              "    <tr>\n",
              "      <th>https://www.thomsonreuters.com/</th>\n",
              "      <td>34.0</td>\n",
              "      <td>26.0</td>\n",
              "      <td>60.0</td>\n",
              "    </tr>\n",
              "  </tbody>\n",
              "</table>\n",
              "</div>"
            ],
            "text/plain": [
              "Status                                    Invalid  Valid  total_href\n",
              "url                                                                 \n",
              "https://anti-fraud.ec.europa.eu/index_en      2.0   33.0        35.0\n",
              "https://home.treasury.gov/                    6.0  243.0       249.0\n",
              "https://learn.seon.io/                        0.0    3.0         3.0\n",
              "https://sanctionssearch.ofac.treas.gov/       0.0    5.0         5.0\n",
              "https://www.kroll.com/                       12.0   16.0        28.0\n",
              "https://www.swift.com/                        6.0   15.0        21.0\n",
              "https://www.thomsonreuters.com/              34.0   26.0        60.0"
            ]
          },
          "execution_count": 47,
          "metadata": {},
          "output_type": "execute_result"
        }
      ],
      "source": [
        "new_df =df.groupby(['url', 'Status']).size().unstack()\n",
        "new_df.fillna(0,inplace=True)\n",
        "new_df[\"total_href\"] = (new_df.Invalid+new_df.Valid).values\n",
        "new_df"
      ]
    },
    {
      "cell_type": "code",
      "execution_count": null,
      "id": "6f267c37",
      "metadata": {
        "id": "6f267c37",
        "outputId": "e78d4373-1fee-48b7-d280-f5d1662aa607"
      },
      "outputs": [
        {
          "data": {
            "image/png": "[encoded data removed]",
            "text/plain": [
              "<Figure size 1000x500 with 1 Axes>"
            ]
          },
          "metadata": {},
          "output_type": "display_data"
        }
      ],
      "source": [
        "new_df.plot(kind = 'bar',stacked=True,title = 'Stacked Valid Invalid Count For Urls',figsize=(10,5),width=0.8)\n",
        "plt.grid()"
      ]
    },
    {
      "cell_type": "code",
      "execution_count": null,
      "id": "26cd659a",
      "metadata": {
        "id": "26cd659a",
        "outputId": "a8766d32-3913-48a7-f3cb-9f374144142d"
      },
      "outputs": [
        {
          "data": {
            "image/png": "[encoded data removed]",
            "text/plain": [
              "<Figure size 1000x500 with 1 Axes>"
            ]
          },
          "metadata": {},
          "output_type": "display_data"
        }
      ],
      "source": [
        "new_df.plot(kind = 'bar',title = 'Valid Invalid Count For Urls',figsize=(10,5),width=0.9)\n",
        "plt.grid()"
      ]
    },
    {
      "cell_type": "markdown",
      "source": [
        "### For each valid http/ https links or sub links find the website having the highest number of each keyword form list2 in Appendix. Group them by main link from list 1 and then the sub links. Make a csv file."
      ],
      "metadata": {
        "id": "WCx4BQLZ28IL"
      },
      "id": "WCx4BQLZ28IL"
    },
    {
      "cell_type": "code",
      "execution_count": null,
      "id": "a978db1b",
      "metadata": {
        "id": "a978db1b"
      },
      "outputs": [],
      "source": [
        "keywords = [\"Sanctions\",\"OFAC\",\"Foreign Sanctions\",\"Balkans\",\"ESG trends\",\"Corporate income tax\",\"European Parliament\",\"customs fraud\",\"Cybersecurity\",\"OLAF\",\"Device Fingerprinting\"]"
      ]
    },
    {
      "cell_type": "code",
      "execution_count": null,
      "id": "816cb5e2",
      "metadata": {
        "id": "816cb5e2"
      },
      "outputs": [],
      "source": [
        "df1 = pd.read_csv(\"/home/shubham/case/valid_href_timeout.csv\")\n",
        "df1 = df1[df1.Status==\"Valid\"]\n",
        "df1[keywords]=np.nan\n",
        "\n",
        "hrefs = list(df1.href)\n",
        "for i in range(len(hrefs)):\n",
        "    page = requests.get(hrefs[i])\n",
        "    soup = BeautifulSoup(page.content, \"html.parser\")\n",
        "    tag = soup.body\n",
        "    text =\"\"\n",
        "    try:\n",
        "        for string in tag.strings:\n",
        "            text=text+string.strip()\n",
        "        word_count = {word:text.count(word) for word in keywords}\n",
        "        df1.loc[i,keywords] = word_count.values()    \n",
        "    except:\n",
        "        df1.loc[i,keywords] = 0\n",
        "df1.to_csv(\"word_count.csv\",index=False)"
      ]
    },
    {
      "cell_type": "code",
      "execution_count": 16,
      "id": "0139fdef",
      "metadata": {
        "colab": {
          "base_uri": "https://localhost:8080/",
          "height": 391
        },
        "id": "0139fdef",
        "outputId": "53d793e5-ae47-47fc-8d9a-59216846ac12"
      },
      "outputs": [
        {
          "output_type": "execute_result",
          "data": {
            "text/plain": [
              "                                       url  \\\n",
              "0  https://sanctionssearch.ofac.treas.gov/   \n",
              "1  https://sanctionssearch.ofac.treas.gov/   \n",
              "2  https://sanctionssearch.ofac.treas.gov/   \n",
              "3  https://sanctionssearch.ofac.treas.gov/   \n",
              "4  https://sanctionssearch.ofac.treas.gov/   \n",
              "\n",
              "                                                href Status  Sanctions  OFAC  \\\n",
              "0  https://home.treasury.gov/policy-issues/financ...  Valid         39    24   \n",
              "1  https://home.treasury.gov/policy-issues/financ...  Valid         35    23   \n",
              "2  https://home.treasury.gov/policy-issues/office...  Valid         27    32   \n",
              "3  https://home.treasury.gov/policy-issues/financ...  Valid         49    12   \n",
              "4  https://home.treasury.gov/policy-issues/financ...  Valid         23    21   \n",
              "\n",
              "   Foreign Sanctions  Balkans  ESG trends  Corporate income tax  \\\n",
              "0                  0        0           0                     0   \n",
              "1                  1        0           0                     0   \n",
              "2                  0        0           0                     0   \n",
              "3                  4        1           0                     0   \n",
              "4                  0        0           0                     0   \n",
              "\n",
              "   European Parliament  customs fraud  Cybersecurity  OLAF  \\\n",
              "0                    0              0              0     0   \n",
              "1                    0              0              0     0   \n",
              "2                    0              0              0     0   \n",
              "3                    0              0              0     0   \n",
              "4                    0              0              0     0   \n",
              "\n",
              "   Device Fingerprinting        max  \n",
              "0                      0  Sanctions  \n",
              "1                      0  Sanctions  \n",
              "2                      0       OFAC  \n",
              "3                      0  Sanctions  \n",
              "4                      0  Sanctions  "
            ],
            "text/html": [
              "\n",
              "  <div id=\"df-02feaffc-dcd8-4d34-982d-a6452dc3b4e0\">\n",
              "    <div class=\"colab-df-container\">\n",
              "      <div>\n",
              "<style scoped>\n",
              "    .dataframe tbody tr th:only-of-type {\n",
              "        vertical-align: middle;\n",
              "    }\n",
              "\n",
              "    .dataframe tbody tr th {\n",
              "        vertical-align: top;\n",
              "    }\n",
              "\n",
              "    .dataframe thead th {\n",
              "        text-align: right;\n",
              "    }\n",
              "</style>\n",
              "<table border=\"1\" class=\"dataframe\">\n",
              "  <thead>\n",
              "    <tr style=\"text-align: right;\">\n",
              "      <th></th>\n",
              "      <th>url</th>\n",
              "      <th>href</th>\n",
              "      <th>Status</th>\n",
              "      <th>Sanctions</th>\n",
              "      <th>OFAC</th>\n",
              "      <th>Foreign Sanctions</th>\n",
              "      <th>Balkans</th>\n",
              "      <th>ESG trends</th>\n",
              "      <th>Corporate income tax</th>\n",
              "      <th>European Parliament</th>\n",
              "      <th>customs fraud</th>\n",
              "      <th>Cybersecurity</th>\n",
              "      <th>OLAF</th>\n",
              "      <th>Device Fingerprinting</th>\n",
              "      <th>max</th>\n",
              "    </tr>\n",
              "  </thead>\n",
              "  <tbody>\n",
              "    <tr>\n",
              "      <th>0</th>\n",
              "      <td>https://sanctionssearch.ofac.treas.gov/</td>\n",
              "      <td>https://home.treasury.gov/policy-issues/financ...</td>\n",
              "      <td>Valid</td>\n",
              "      <td>39</td>\n",
              "      <td>24</td>\n",
              "      <td>0</td>\n",
              "      <td>0</td>\n",
              "      <td>0</td>\n",
              "      <td>0</td>\n",
              "      <td>0</td>\n",
              "      <td>0</td>\n",
              "      <td>0</td>\n",
              "      <td>0</td>\n",
              "      <td>0</td>\n",
              "      <td>Sanctions</td>\n",
              "    </tr>\n",
              "    <tr>\n",
              "      <th>1</th>\n",
              "      <td>https://sanctionssearch.ofac.treas.gov/</td>\n",
              "      <td>https://home.treasury.gov/policy-issues/financ...</td>\n",
              "      <td>Valid</td>\n",
              "      <td>35</td>\n",
              "      <td>23</td>\n",
              "      <td>1</td>\n",
              "      <td>0</td>\n",
              "      <td>0</td>\n",
              "      <td>0</td>\n",
              "      <td>0</td>\n",
              "      <td>0</td>\n",
              "      <td>0</td>\n",
              "      <td>0</td>\n",
              "      <td>0</td>\n",
              "      <td>Sanctions</td>\n",
              "    </tr>\n",
              "    <tr>\n",
              "      <th>2</th>\n",
              "      <td>https://sanctionssearch.ofac.treas.gov/</td>\n",
              "      <td>https://home.treasury.gov/policy-issues/office...</td>\n",
              "      <td>Valid</td>\n",
              "      <td>27</td>\n",
              "      <td>32</td>\n",
              "      <td>0</td>\n",
              "      <td>0</td>\n",
              "      <td>0</td>\n",
              "      <td>0</td>\n",
              "      <td>0</td>\n",
              "      <td>0</td>\n",
              "      <td>0</td>\n",
              "      <td>0</td>\n",
              "      <td>0</td>\n",
              "      <td>OFAC</td>\n",
              "    </tr>\n",
              "    <tr>\n",
              "      <th>3</th>\n",
              "      <td>https://sanctionssearch.ofac.treas.gov/</td>\n",
              "      <td>https://home.treasury.gov/policy-issues/financ...</td>\n",
              "      <td>Valid</td>\n",
              "      <td>49</td>\n",
              "      <td>12</td>\n",
              "      <td>4</td>\n",
              "      <td>1</td>\n",
              "      <td>0</td>\n",
              "      <td>0</td>\n",
              "      <td>0</td>\n",
              "      <td>0</td>\n",
              "      <td>0</td>\n",
              "      <td>0</td>\n",
              "      <td>0</td>\n",
              "      <td>Sanctions</td>\n",
              "    </tr>\n",
              "    <tr>\n",
              "      <th>4</th>\n",
              "      <td>https://sanctionssearch.ofac.treas.gov/</td>\n",
              "      <td>https://home.treasury.gov/policy-issues/financ...</td>\n",
              "      <td>Valid</td>\n",
              "      <td>23</td>\n",
              "      <td>21</td>\n",
              "      <td>0</td>\n",
              "      <td>0</td>\n",
              "      <td>0</td>\n",
              "      <td>0</td>\n",
              "      <td>0</td>\n",
              "      <td>0</td>\n",
              "      <td>0</td>\n",
              "      <td>0</td>\n",
              "      <td>0</td>\n",
              "      <td>Sanctions</td>\n",
              "    </tr>\n",
              "  </tbody>\n",
              "</table>\n",
              "</div>\n",
              "      <button class=\"colab-df-convert\" onclick=\"convertToInteractive('df-02feaffc-dcd8-4d34-982d-a6452dc3b4e0')\"\n",
              "              title=\"Convert this dataframe to an interactive table.\"\n",
              "              style=\"display:none;\">\n",
              "        \n",
              "  <svg xmlns=\"http://www.w3.org/2000/svg\" height=\"24px\"viewBox=\"0 0 24 24\"\n",
              "       width=\"24px\">\n",
              "    <path d=\"M0 0h24v24H0V0z\" fill=\"none\"/>\n",
              "    <path d=\"M18.56 5.44l.94 2.06.94-2.06 2.06-.94-2.06-.94-.94-2.06-.94 2.06-2.06.94zm-11 1L8.5 8.5l.94-2.06 2.06-.94-2.06-.94L8.5 2.5l-.94 2.06-2.06.94zm10 10l.94 2.06.94-2.06 2.06-.94-2.06-.94-.94-2.06-.94 2.06-2.06.94z\"/><path d=\"M17.41 7.96l-1.37-1.37c-.4-.4-.92-.59-1.43-.59-.52 0-1.04.2-1.43.59L10.3 9.45l-7.72 7.72c-.78.78-.78 2.05 0 2.83L4 21.41c.39.39.9.59 1.41.59.51 0 1.02-.2 1.41-.59l7.78-7.78 2.81-2.81c.8-.78.8-2.07 0-2.86zM5.41 20L4 18.59l7.72-7.72 1.47 1.35L5.41 20z\"/>\n",
              "  </svg>\n",
              "      </button>\n",
              "      \n",
              "  <style>\n",
              "    .colab-df-container {\n",
              "      display:flex;\n",
              "      flex-wrap:wrap;\n",
              "      gap: 12px;\n",
              "    }\n",
              "\n",
              "    .colab-df-convert {\n",
              "      background-color: #E8F0FE;\n",
              "      border: none;\n",
              "      border-radius: 50%;\n",
              "      cursor: pointer;\n",
              "      display: none;\n",
              "      fill: #1967D2;\n",
              "      height: 32px;\n",
              "      padding: 0 0 0 0;\n",
              "      width: 32px;\n",
              "    }\n",
              "\n",
              "    .colab-df-convert:hover {\n",
              "      background-color: #E2EBFA;\n",
              "      box-shadow: 0px 1px 2px rgba(60, 64, 67, 0.3), 0px 1px 3px 1px rgba(60, 64, 67, 0.15);\n",
              "      fill: #174EA6;\n",
              "    }\n",
              "\n",
              "    [theme=dark] .colab-df-convert {\n",
              "      background-color: #3B4455;\n",
              "      fill: #D2E3FC;\n",
              "    }\n",
              "\n",
              "    [theme=dark] .colab-df-convert:hover {\n",
              "      background-color: #434B5C;\n",
              "      box-shadow: 0px 1px 3px 1px rgba(0, 0, 0, 0.15);\n",
              "      filter: drop-shadow(0px 1px 2px rgba(0, 0, 0, 0.3));\n",
              "      fill: #FFFFFF;\n",
              "    }\n",
              "  </style>\n",
              "\n",
              "      <script>\n",
              "        const buttonEl =\n",
              "          document.querySelector('#df-02feaffc-dcd8-4d34-982d-a6452dc3b4e0 button.colab-df-convert');\n",
              "        buttonEl.style.display =\n",
              "          google.colab.kernel.accessAllowed ? 'block' : 'none';\n",
              "\n",
              "        async function convertToInteractive(key) {\n",
              "          const element = document.querySelector('#df-02feaffc-dcd8-4d34-982d-a6452dc3b4e0');\n",
              "          const dataTable =\n",
              "            await google.colab.kernel.invokeFunction('convertToInteractive',\n",
              "                                                     [key], {});\n",
              "          if (!dataTable) return;\n",
              "\n",
              "          const docLinkHtml = 'Like what you see? Visit the ' +\n",
              "            '<a target=\"_blank\" href=https://colab.research.google.com/notebooks/data_table.ipynb>data table notebook</a>'\n",
              "            + ' to learn more about interactive tables.';\n",
              "          element.innerHTML = '';\n",
              "          dataTable['output_type'] = 'display_data';\n",
              "          await google.colab.output.renderOutput(dataTable, element);\n",
              "          const docLink = document.createElement('div');\n",
              "          docLink.innerHTML = docLinkHtml;\n",
              "          element.appendChild(docLink);\n",
              "        }\n",
              "      </script>\n",
              "    </div>\n",
              "  </div>\n",
              "  "
            ]
          },
          "metadata": {},
          "execution_count": 16
        }
      ],
      "source": [
        "df1 = pd.read_csv(\"/content/drive/MyDrive/EKeeda/case/word_count.csv\")\n",
        "df1[\"max\"]=df1.iloc[:,3:].idxmax(axis=1)\n",
        "df1.head()"
      ]
    },
    {
      "cell_type": "code",
      "source": [
        "aggregation_functions = {'max': 'first'}\n",
        "df_new = df1.groupby(['url','href']).aggregate(aggregation_functions)\n",
        "df_new.to_csv(\"/content/drive/MyDrive/EKeeda/case/Max_freq_keyword.csv\",index=False)"
      ],
      "metadata": {
        "id": "uqcxbw_j5Sl_"
      },
      "id": "uqcxbw_j5Sl_",
      "execution_count": 25,
      "outputs": []
    }
  ],
  "metadata": {
    "kernelspec": {
      "display_name": "Python 3 (ipykernel)",
      "language": "python",
      "name": "python3"
    },
    "language_info": {
      "codemirror_mode": {
        "name": "ipython",
        "version": 3
      },
      "file_extension": ".py",
      "mimetype": "text/x-python",
      "name": "python",
      "nbconvert_exporter": "python",
      "pygments_lexer": "ipython3",
      "version": "3.8.8"
    },
    "colab": {
      "provenance": []
    }
  },
  "nbformat": 4,
  "nbformat_minor": 5
}